{
 "cells": [
  {
   "cell_type": "code",
   "execution_count": 1,
   "metadata": {
    "collapsed": true
   },
   "outputs": [],
   "source": [
    "import pandas as pd\n",
    "import numpy as np"
   ]
  },
  {
   "cell_type": "code",
   "execution_count": 3,
   "metadata": {
    "collapsed": false
   },
   "outputs": [],
   "source": [
    "data_channel = pd.read_csv(\"data/log_channel.csv\")\n",
    "data_playlist = pd.read_csv(\"data/playlist.csv\")"
   ]
  },
  {
   "cell_type": "code",
   "execution_count": 6,
   "metadata": {
    "collapsed": false
   },
   "outputs": [
    {
     "name": "stdout",
     "output_type": "stream",
     "text": [
      "(50000, 55)\n",
      "(81381, 18)\n"
     ]
    }
   ],
   "source": [
    "print (data_channel.shape)\n",
    "print (data_playlist.shape)"
   ]
  },
  {
   "cell_type": "code",
   "execution_count": 4,
   "metadata": {
    "collapsed": false
   },
   "outputs": [
    {
     "name": "stdout",
     "output_type": "stream",
     "text": [
      "                        ott_stat_id                   ott_stat_session_id  \\\n",
      "0  d62d6016b7ab280e0bef07b7e2c0cfb8      d62d6016b7ab280e0bef07b7e2c0cfb8   \n",
      "1  1f7af114c9ce83704882495c9a990796      1f7af114c9ce83704882495c9a990796   \n",
      "2  197aea58cbc96eba374d91e9cffcf60d      197aea58cbc96eba374d91e9cffcf60d   \n",
      "3  8cfa139aa92e0c4752921671e5e58bc3  138cd307-899a-4d0a-9706-256d54e46a75   \n",
      "4  d7404c8341791e70ab602ed4c7a4c362      d7404c8341791e70ab602ed4c7a4c362   \n",
      "\n",
      "       ott_stat_operator_id ott_stat_operator_name ott_stat_channel_name  \\\n",
      "0  57864d673150b71d14b050b0              Channel_1                   СТС   \n",
      "1  57864d673150b71d14b050b0              Channel_1                   СТС   \n",
      "2  57864d673150b71d14b050b0              Channel_1                   СТС   \n",
      "3  57befb7cb53c4b5d6c57d5ea                Roga TV                   СТС   \n",
      "4  57864d673150b71d14b050b0              Channel_1                   СТС   \n",
      "\n",
      "           ott_stat_operator_channel_id    ott_stat_vi_channel_id  \\\n",
      "0                              10338262  585aa7035b157b0c1521b538   \n",
      "1                              10338262  585aa7035b157b0c1521b538   \n",
      "2                              10338262  585aa7035b157b0c1521b538   \n",
      "3  b8f08dc1-9e82-4eb5-8658-2ed62cdc8eac  585aa7035b157b0c1521b538   \n",
      "4                              10338262  585aa7035b157b0c1521b538   \n",
      "\n",
      "                       ott_stat_user_id  ott_stat_mode_view  \\\n",
      "0  06157253-1b6b-411f-99f8-bbddaad4e74a                   1   \n",
      "1  da13f492-43cc-461b-96e2-bb091700316b                   1   \n",
      "2  2cb55038-347c-484d-9efa-f2fc7587eeb7                   1   \n",
      "3      8a2344d8c7e82f419aec6b548114fe56                   1   \n",
      "4  d4f17764-5753-4cf8-8116-e95e21e576c7                   0   \n",
      "\n",
      "                        ott_stat_app_id               ...                 \\\n",
      "0  06157253-1b6b-411f-99f8-bbddaad4e74a               ...                  \n",
      "1  da13f492-43cc-461b-96e2-bb091700316b               ...                  \n",
      "2  2cb55038-347c-484d-9efa-f2fc7587eeb7               ...                  \n",
      "3      8a2344d8c7e82f419aec6b548114fe56               ...                  \n",
      "4  d4f17764-5753-4cf8-8116-e95e21e576c7               ...                  \n",
      "\n",
      "  ott_stat_program_durration  ott_stat_program_start  ott_stat_program_stop  \\\n",
      "0                        900     2017-06-16 06:15:00    2017-06-20 17:00:00   \n",
      "1                        900     2017-06-16 06:15:00    2017-06-20 17:00:00   \n",
      "2                        900     2017-06-16 06:15:00    2017-06-20 17:00:00   \n",
      "3                        900     2017-06-16 06:15:00    2017-06-20 17:00:00   \n",
      "4                        900     2017-06-16 06:15:00    2017-06-20 17:00:00   \n",
      "\n",
      "  ott_stat_program_ganre_name ott_stat_program_topic_name  \\\n",
      "0                 Приключения                      Дружба   \n",
      "1                 Приключения                      Дружба   \n",
      "2                 Приключения                      Дружба   \n",
      "3                 Приключения                      Дружба   \n",
      "4                 Приключения                      Дружба   \n",
      "\n",
      "  ott_stat_program_country_name ott_stat_program_category_name  \\\n",
      "0                   Южная Корея                            М/с   \n",
      "1                   Южная Корея                            М/с   \n",
      "2                   Южная Корея                            М/с   \n",
      "3                   Южная Корея                            М/с   \n",
      "4                   Южная Корея                            М/с   \n",
      "\n",
      "   ott_stat_program_rating  ott_stat_program_user_dur_view_prog  \\\n",
      "0                        6                                    6   \n",
      "1                        6                                    1   \n",
      "2                        6                                   35   \n",
      "3                        6                                   65   \n",
      "4                        6                                   15   \n",
      "\n",
      "   ott_stat_procent_user_view_prog  \n",
      "0                                0  \n",
      "1                                0  \n",
      "2                                3  \n",
      "3                                7  \n",
      "4                                1  \n",
      "\n",
      "[5 rows x 55 columns]\n"
     ]
    }
   ],
   "source": [
    "print (data_channel.head())"
   ]
  },
  {
   "cell_type": "code",
   "execution_count": 5,
   "metadata": {
    "collapsed": false
   },
   "outputs": [
    {
     "name": "stdout",
     "output_type": "stream",
     "text": [
      "                                _id break_dt_start break_dt_stop break_type  \\\n",
      "0  f0772a4b28f9b563355c865fa292d2fd            NaN           NaN        NaN   \n",
      "1  af262d23d15b427d130de69748bf272d            NaN           NaN        NaN   \n",
      "2  88982388a2feee42aa22c6345ff5f497            NaN           NaN        NaN   \n",
      "3  a8cffbb05018c6e24d5547bd046a3ab6            NaN           NaN        NaN   \n",
      "4  173457f9869725375e7434c7a0733008            NaN           NaN        NaN   \n",
      "\n",
      "   breake_count_spots  breake_duration channel_name  channel_tz  count_spots  \\\n",
      "0                 NaN              NaN         CTC0           0          NaN   \n",
      "1                 NaN              NaN         CTC0           0          NaN   \n",
      "2                 NaN              NaN         CTC0           0          NaN   \n",
      "3                 NaN              NaN         CTC0           0          NaN   \n",
      "4                 NaN              NaN         CTC0           0          NaN   \n",
      "\n",
      "                     dt_add                  dt_event  duration  \\\n",
      "0  2017-06-15T18:54:15.402Z  2017-06-15T18:11:35.000Z        15   \n",
      "1  2017-06-15T18:54:15.429Z  2017-06-15T18:11:50.000Z        15   \n",
      "2  2017-06-15T18:54:15.432Z  2017-06-15T18:12:05.000Z         3   \n",
      "3  2017-06-15T18:54:15.434Z  2017-06-15T18:12:08.000Z       363   \n",
      "4  2017-06-15T18:54:15.436Z  2017-06-15T18:18:11.960Z        30   \n",
      "\n",
      "    event_description                                         event_line  \\\n",
      "0  Тинькофф Банк  1_С  06/15/17 18:11:35:00 00:00:15:00 668809       ...   \n",
      "1  Любятово  Вкус в н  06/15/17 18:11:50:00 00:00:15:00 672339       ...   \n",
      "2   Конечный бампер Л  06/15/17 18:12:05:00 00:00:03:00 GRF_0165_ENR ...   \n",
      "3            ВОРОНИНЫ  06/15/17 18:12:08:00 00:06:03:24 PR_121011980 ...   \n",
      "4   Анонс ШПИОН ПО СО  06/15/17 18:18:11:24 00:00:30:00 AN003476     ...   \n",
      "\n",
      "     event_name  number_line  past    type  \n",
      "0        668809            1  True     NaN  \n",
      "1        672339            2  True     NaN  \n",
      "2  GRF_0165_ENR            3  True  stpReg  \n",
      "3  PR_121011980            4  True     NaN  \n",
      "4      AN003476            5  True     NaN  \n"
     ]
    }
   ],
   "source": [
    "print (data_playlist.head())"
   ]
  },
  {
   "cell_type": "code",
   "execution_count": null,
   "metadata": {
    "collapsed": true
   },
   "outputs": [],
   "source": []
  }
 ],
 "metadata": {
  "kernelspec": {
   "display_name": "Python 3",
   "language": "python",
   "name": "python3"
  },
  "language_info": {
   "codemirror_mode": {
    "name": "ipython",
    "version": 3
   },
   "file_extension": ".py",
   "mimetype": "text/x-python",
   "name": "python",
   "nbconvert_exporter": "python",
   "pygments_lexer": "ipython3",
   "version": "3.5.2"
  }
 },
 "nbformat": 4,
 "nbformat_minor": 2
}
