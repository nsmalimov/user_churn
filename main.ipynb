{
 "cells": [
  {
   "cell_type": "code",
   "execution_count": 45,
   "metadata": {
    "collapsed": false
   },
   "outputs": [],
   "source": [
    "import pandas as pd\n",
    "import numpy as np\n",
    "import datetime\n",
    "\n",
    "import warnings\n",
    "warnings.filterwarnings('ignore')"
   ]
  },
  {
   "cell_type": "code",
   "execution_count": 46,
   "metadata": {
    "collapsed": false
   },
   "outputs": [],
   "source": [
    "data_channel = pd.read_csv(\"data/log_channel.csv\")\n",
    "data_playlist = pd.read_csv(\"data/playlist.csv\")"
   ]
  },
  {
   "cell_type": "code",
   "execution_count": 47,
   "metadata": {
    "collapsed": false
   },
   "outputs": [
    {
     "name": "stdout",
     "output_type": "stream",
     "text": [
      "(50000, 55)\n",
      "(81381, 18)\n"
     ]
    }
   ],
   "source": [
    "print (data_channel.shape)\n",
    "print (data_playlist.shape)"
   ]
  },
  {
   "cell_type": "code",
   "execution_count": 48,
   "metadata": {
    "collapsed": true
   },
   "outputs": [],
   "source": [
    "data_playlist=data_playlist.dropna(axis=1,how='all')"
   ]
  },
  {
   "cell_type": "code",
   "execution_count": 49,
   "metadata": {
    "collapsed": false
   },
   "outputs": [],
   "source": [
    "data_channel = data_channel.drop(['id', 'session_id'], 1)"
   ]
  },
  {
   "cell_type": "code",
   "execution_count": 50,
   "metadata": {
    "collapsed": false
   },
   "outputs": [],
   "source": [
    "data_channel['event_start'] = pd.to_datetime(data_channel['event_start'])\n",
    "data_channel['event_end'] = pd.to_datetime(data_channel['event_end'])\n",
    "\n",
    "data_channel['program_start'] = pd.to_datetime(data_channel['program_start'])\n",
    "data_channel['program_stop'] = pd.to_datetime(data_channel['program_stop'])\n",
    "\n",
    "data_channel['event_start'] = pd.to_datetime(data_channel['event_start'])\n",
    "data_channel['event_stop'] = pd.to_datetime(data_channel['event_end'])\n",
    "\n",
    "data_channel['dt_add_row'] = pd.to_datetime(data_channel['dt_add_row'])\n",
    "\n",
    "data_channel['content_aired_start'] = pd.to_datetime(data_channel['content_aired_start'])\n",
    "data_channel['content_aired_end'] = pd.to_datetime(data_channel['content_aired_end'])"
   ]
  },
  {
   "cell_type": "code",
   "execution_count": 7,
   "metadata": {
    "collapsed": false
   },
   "outputs": [
    {
     "name": "stdout",
     "output_type": "stream",
     "text": [
      "operator_id: 57864d673150b71d14b050b0\n",
      "operator_name: Channel_1\n",
      "channel_name: СТС\n",
      "operator_channel_id: 10338262\n",
      "vi_channel_id: 585aa7035b157b0c1521b538\n",
      "user_id: 06157253-1b6b-411f-99f8-bbddaad4e74a\n",
      "mode_view: 1\n",
      "app_id: 06157253-1b6b-411f-99f8-bbddaad4e74a\n",
      "device_ip: 5.129.142.153\n",
      "device_mac: nan\n",
      "device_type: 4\n",
      "device_type_name: stb\n",
      "event_duration: 6\n",
      "event_start: 2017-06-16 06:24:17\n",
      "event_start_date: 2017-06-16\n",
      "event_start_hour: 6\n",
      "event_start_minut: 24\n",
      "event_start_second: 17\n",
      "event_end: 2017-06-16 06:24:23\n",
      "event_end_date: 2017-06-16\n",
      "event_end_hour: 6\n",
      "event_end_minut: 24\n",
      "event_end_second: 23\n",
      "geo_continent_code: EU\n",
      "geo_subdivision_1_name: nan\n",
      "geo_country_iso_code: RU\n",
      "geo_subdivision_2_name: nan\n",
      "geo_subdivision_1_iso_code: nan\n",
      "geo_subdivision_2_iso_code: nan\n",
      "geo_city_name: nan\n",
      "geo_time_zone: nan\n",
      "geo_country_name: Россия\n",
      "geo_continent_name: Европа\n",
      "dt_add_row: 2017-06-17 08:13:18\n",
      "IDFA: 0.0\n",
      "AAID: 0.0\n",
      "user_agent: Roga.TV/6.13.7 Android/4.4.4 stb/Eltex NV501WAC.NV501WAC/NV501WAC.NV501WAC.armeabi-v7a\n",
      "stream_type: 1\n",
      "content_aired_start: 2017-06-16 06:05:00\n",
      "content_aired_end: 2017-06-16 08:00:00\n",
      "content_aired_duration: 6 900\n",
      "region_streaming: 16\n",
      "program_title_name: Bubble Marin\n",
      "program_durration: 900\n",
      "program_start: 2017-06-16 06:15:00\n",
      "program_stop: 2017-06-20 17:00:00\n",
      "program_ganre_name: Приключения\n",
      "program_topic_name: Дружба\n",
      "program_country_name: Южная Корея\n",
      "program_category_name: М/с\n",
      "program_rating: 6\n",
      "program_user_dur_view_prog: 6\n",
      "procent_user_view_prog: 0\n",
      "event_stop: 2017-06-16 06:24:23\n"
     ]
    }
   ],
   "source": [
    "for i in list(data_channel):\n",
    "    print (i + \": \" + str(data_channel[i][0]))"
   ]
  },
  {
   "cell_type": "code",
   "execution_count": null,
   "metadata": {
    "collapsed": true
   },
   "outputs": [],
   "source": [
    "# event_start event_end user_id"
   ]
  },
  {
   "cell_type": "code",
   "execution_count": 51,
   "metadata": {
    "collapsed": false
   },
   "outputs": [],
   "source": [
    "data_playlist['dt_add'] = pd.to_datetime(data_playlist['dt_add'])\n",
    "data_playlist['dt_event_start'] = pd.to_datetime(data_playlist['dt_event'])\n",
    "\n",
    "data_playlist['time_added'] = pd.to_timedelta(data_playlist['duration'],'s')\n",
    "\n",
    "data_playlist['dt_event_end'] = data_playlist['dt_event_start'] + data_playlist['time_added']"
   ]
  },
  {
   "cell_type": "code",
   "execution_count": 9,
   "metadata": {
    "collapsed": false
   },
   "outputs": [
    {
     "name": "stdout",
     "output_type": "stream",
     "text": [
      "id: f0772a4b28f9b563355c865fa292d2fd\n",
      "break_dt_start: nan\n",
      "break_dt_stop: nan\n",
      "break_type: nan\n",
      "breake_count_spots: nan\n",
      "breake_duration: nan\n",
      "channel_name: CTC0\n",
      "channel_tz: 0\n",
      "dt_add: 2017-06-15 18:54:15.402000\n",
      "dt_event: 2017-06-15T18:11:35.000Z\n",
      "duration: 15\n",
      "event_description: Тинькофф Банк  1_С\n",
      "event_line: 06/15/17 18:11:35:00 00:00:15:00 668809                                                                                                                                                    Тинькофф Банк  1_С                                   \\n\n",
      "event_name: 668809\n",
      "number_line: 1\n",
      "past: True\n",
      "type: nan\n",
      "dt_event_start: 2017-06-15 18:11:35\n",
      "time_added: 0 days 00:00:15\n",
      "dt_event_end: 2017-06-15 18:11:50\n"
     ]
    }
   ],
   "source": [
    "for i in list(data_playlist):\n",
    "    print (i + \": \" + str(data_playlist[i][0]))"
   ]
  },
  {
   "cell_type": "code",
   "execution_count": null,
   "metadata": {
    "collapsed": true
   },
   "outputs": [],
   "source": [
    "# dt_events\n",
    "# durations - seconds"
   ]
  },
  {
   "cell_type": "code",
   "execution_count": null,
   "metadata": {
    "collapsed": true
   },
   "outputs": [],
   "source": [
    "# необходимо расставить метки на логи просмотра где был онлайн весь период показа рекламы"
   ]
  },
  {
   "cell_type": "code",
   "execution_count": 52,
   "metadata": {
    "collapsed": true
   },
   "outputs": [],
   "source": [
    "user_ids_with_1_labels = []"
   ]
  },
  {
   "cell_type": "code",
   "execution_count": 82,
   "metadata": {
    "collapsed": false
   },
   "outputs": [],
   "source": [
    "num = 0\n",
    "\n",
    "for index1, row1 in data_playlist.iterrows():\n",
    "    start_date = row1['dt_event_start']\n",
    "    end_date = row1['dt_event_end']\n",
    "\n",
    "    mask = (data_channel['event_start'] <= start_date) & (data_channel['event_end'] >= end_date)\n",
    "    \n",
    "    df = data_channel.loc[mask] \n",
    "    \n",
    "    for index2, row2 in df.iterrows():\n",
    "        user_id = row2['user_id']\n",
    "        if not(user_id in user_ids_with_1_labels):\n",
    "            user_ids_with_1_labels.append(user_id)\n",
    "    \n",
    "    if num % 1000 == 0:\n",
    "        print (num)\n",
    "        \n",
    "    num += 1"
   ]
  },
  {
   "cell_type": "code",
   "execution_count": 54,
   "metadata": {
    "collapsed": true
   },
   "outputs": [],
   "source": [
    "with open(\"ids\", \"w\") as f:\n",
    "    for i in user_ids_with_1_labels:\n",
    "        f.write(i + \"\\n\")"
   ]
  },
  {
   "cell_type": "code",
   "execution_count": 60,
   "metadata": {
    "collapsed": false
   },
   "outputs": [],
   "source": [
    "user_ids_with_1_labels = []\n",
    "with open(\"ids\", \"r\") as f:\n",
    "    for i in f.readlines():\n",
    "        s = i.replace(\"\\n\", \"\")\n",
    "        user_ids_with_1_labels.append(s)\n",
    "f.close()"
   ]
  },
  {
   "cell_type": "code",
   "execution_count": 79,
   "metadata": {
    "collapsed": false
   },
   "outputs": [],
   "source": [
    "data_channel['label'] = None\n",
    "data_channel['label'][data_channel['user_id'].isin(user_ids_with_1_labels)] = 1\n",
    "data_channel['label'][data_channel['label'] != 1] = 0"
   ]
  },
  {
   "cell_type": "code",
   "execution_count": 81,
   "metadata": {
    "collapsed": false
   },
   "outputs": [
    {
     "name": "stdout",
     "output_type": "stream",
     "text": [
      "38426\n",
      "11574\n"
     ]
    }
   ],
   "source": [
    "print (data_channel['label'][data_channel['label'] == 1].shape[0])\n",
    "print (data_channel['label'][data_channel['label'] != 1].shape[0])"
   ]
  },
  {
   "cell_type": "code",
   "execution_count": null,
   "metadata": {
    "collapsed": true
   },
   "outputs": [],
   "source": [
    "# main prepare data\n"
   ]
  }
 ],
 "metadata": {
  "kernelspec": {
   "display_name": "Python 3",
   "language": "python",
   "name": "python3"
  },
  "language_info": {
   "codemirror_mode": {
    "name": "ipython",
    "version": 3
   },
   "file_extension": ".py",
   "mimetype": "text/x-python",
   "name": "python",
   "nbconvert_exporter": "python",
   "pygments_lexer": "ipython3",
   "version": "3.5.2"
  }
 },
 "nbformat": 4,
 "nbformat_minor": 2
}
