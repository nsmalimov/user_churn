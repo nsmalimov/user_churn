{
 "cells": [
  {
   "cell_type": "code",
   "execution_count": 1,
   "metadata": {
    "collapsed": true
   },
   "outputs": [],
   "source": [
    "def read_data():\n",
    "    X, y = [], []\n",
    "    with open(\"data/prepared_data\", \"r\") as f:\n",
    "        for i in f.readlines():\n",
    "            s = i.replace(\"\\n\", \"\")\n",
    "            s_split = s.split(\",\")\n",
    "            X.append([float(j) for j in s_split[0:-1]])\n",
    "            y.append(s_split[-1])\n",
    "            \n",
    "    y = [int(i) for i in y]\n",
    "    return X, y\n",
    "\n",
    "X, y = read_data()"
   ]
  },
  {
   "cell_type": "code",
   "execution_count": 2,
   "metadata": {
    "collapsed": false
   },
   "outputs": [
    {
     "name": "stdout",
     "output_type": "stream",
     "text": [
      "38426 11574\n"
     ]
    }
   ],
   "source": [
    "count_1 = 0\n",
    "count_0 = 0\n",
    "\n",
    "for i in y:\n",
    "    if i == 1:\n",
    "        count_1 += 1\n",
    "    else:\n",
    "        count_0 += 1\n",
    "        \n",
    "print (count_1, count_0)"
   ]
  },
  {
   "cell_type": "code",
   "execution_count": null,
   "metadata": {
    "collapsed": true
   },
   "outputs": [],
   "source": []
  }
 ],
 "metadata": {
  "kernelspec": {
   "display_name": "Python 3",
   "language": "python",
   "name": "python3"
  },
  "language_info": {
   "codemirror_mode": {
    "name": "ipython",
    "version": 3
   },
   "file_extension": ".py",
   "mimetype": "text/x-python",
   "name": "python",
   "nbconvert_exporter": "python",
   "pygments_lexer": "ipython3",
   "version": "3.5.2"
  }
 },
 "nbformat": 4,
 "nbformat_minor": 2
}
