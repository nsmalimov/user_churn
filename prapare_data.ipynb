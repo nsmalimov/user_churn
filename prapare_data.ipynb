{
 "cells": [
  {
   "cell_type": "code",
   "execution_count": 16,
   "metadata": {
    "collapsed": false
   },
   "outputs": [],
   "source": [
    "import pandas as pd\n",
    "import numpy as np\n",
    "import datetime\n",
    "import re\n",
    "\n",
    "import warnings\n",
    "warnings.filterwarnings('ignore')"
   ]
  },
  {
   "cell_type": "code",
   "execution_count": 17,
   "metadata": {
    "collapsed": false
   },
   "outputs": [],
   "source": [
    "data_channel = pd.read_csv(\"data/log_channel.csv\")\n",
    "data_playlist = pd.read_csv(\"data/playlist.csv\")"
   ]
  },
  {
   "cell_type": "code",
   "execution_count": 18,
   "metadata": {
    "collapsed": false
   },
   "outputs": [
    {
     "name": "stdout",
     "output_type": "stream",
     "text": [
      "(50000, 55)\n",
      "(81381, 18)\n"
     ]
    }
   ],
   "source": [
    "print (data_channel.shape)\n",
    "print (data_playlist.shape)"
   ]
  },
  {
   "cell_type": "markdown",
   "metadata": {},
   "source": [
    "Удаляем полностью пустые"
   ]
  },
  {
   "cell_type": "code",
   "execution_count": 19,
   "metadata": {
    "collapsed": true
   },
   "outputs": [],
   "source": [
    "data_playlist = data_playlist.dropna(axis=1,how='all')\n",
    "data_channel = data_channel.dropna(axis=1,how='all')"
   ]
  },
  {
   "cell_type": "markdown",
   "metadata": {},
   "source": [
    "Обработка времени"
   ]
  },
  {
   "cell_type": "code",
   "execution_count": 20,
   "metadata": {
    "collapsed": false
   },
   "outputs": [],
   "source": [
    "data_channel['event_start'] = pd.to_datetime(data_channel['event_start'])\n",
    "data_channel['event_end'] = pd.to_datetime(data_channel['event_end'])\n",
    "\n",
    "data_channel['program_start'] = pd.to_datetime(data_channel['program_start'])\n",
    "data_channel['program_stop'] = pd.to_datetime(data_channel['program_stop'])\n",
    "\n",
    "data_channel['event_start'] = pd.to_datetime(data_channel['event_start'])\n",
    "data_channel['event_stop'] = pd.to_datetime(data_channel['event_end'])\n",
    "\n",
    "data_channel['dt_add_row'] = pd.to_datetime(data_channel['dt_add_row'])\n",
    "\n",
    "data_channel['content_aired_start'] = pd.to_datetime(data_channel['content_aired_start'])\n",
    "data_channel['content_aired_end'] = pd.to_datetime(data_channel['content_aired_end'])\n",
    "\n",
    "data_playlist['dt_add'] = pd.to_datetime(data_playlist['dt_add'])\n",
    "data_playlist['dt_event_start'] = pd.to_datetime(data_playlist['dt_event'])\n",
    "\n",
    "data_playlist['time_added'] = pd.to_timedelta(data_playlist['duration'],'s')\n",
    "\n",
    "data_playlist['dt_event_end'] = data_playlist['dt_event_start'] + data_playlist['time_added']"
   ]
  },
  {
   "cell_type": "code",
   "execution_count": null,
   "metadata": {
    "collapsed": false
   },
   "outputs": [],
   "source": [
    "for i in list(data_channel):\n",
    "    print (i + \": \" + str(data_channel[i][0]))"
   ]
  },
  {
   "cell_type": "code",
   "execution_count": null,
   "metadata": {
    "collapsed": true
   },
   "outputs": [],
   "source": [
    "# IDFA - Identifier for advertisers, Apple's alternative to HTTP cookies on iOS\n",
    "# AAID provides the same type of device-specific, unique, resettable ID for advertising as the IDFA in Android"
   ]
  },
  {
   "cell_type": "code",
   "execution_count": null,
   "metadata": {
    "collapsed": true
   },
   "outputs": [],
   "source": [
    "# event_start event_end user_id"
   ]
  },
  {
   "cell_type": "code",
   "execution_count": null,
   "metadata": {
    "collapsed": false
   },
   "outputs": [],
   "source": [
    "for i in list(data_playlist):\n",
    "    print (i + \": \" + str(data_playlist[i][0]))"
   ]
  },
  {
   "cell_type": "code",
   "execution_count": null,
   "metadata": {
    "collapsed": true
   },
   "outputs": [],
   "source": [
    "# dt_events\n",
    "# durations - seconds"
   ]
  },
  {
   "cell_type": "code",
   "execution_count": null,
   "metadata": {
    "collapsed": true
   },
   "outputs": [],
   "source": [
    "# необходимо расставить метки на логи просмотра где был онлайн весь период показа рекламы"
   ]
  },
  {
   "cell_type": "markdown",
   "metadata": {},
   "source": [
    "Ищем записи, когда ролик был полностью просмотрен"
   ]
  },
  {
   "cell_type": "code",
   "execution_count": null,
   "metadata": {
    "collapsed": true
   },
   "outputs": [],
   "source": [
    "user_ids_with_1_labels = []"
   ]
  },
  {
   "cell_type": "code",
   "execution_count": null,
   "metadata": {
    "collapsed": false
   },
   "outputs": [],
   "source": [
    "num = 0\n",
    "\n",
    "for index1, row1 in data_playlist.iterrows():\n",
    "    start_date = row1['dt_event_start']\n",
    "    end_date = row1['dt_event_end']\n",
    "\n",
    "    mask = (data_channel['event_start'] <= start_date) & (data_channel['event_end'] >= end_date)\n",
    "    \n",
    "    df = data_channel.loc[mask] \n",
    "    \n",
    "    for index2, row2 in df.iterrows():\n",
    "        user_id = row2['user_id']\n",
    "        if not(user_id in user_ids_with_1_labels):\n",
    "            user_ids_with_1_labels.append(user_id)\n",
    "    \n",
    "    if num % 1000 == 0:\n",
    "        print (num)\n",
    "        \n",
    "    num += 1"
   ]
  },
  {
   "cell_type": "code",
   "execution_count": null,
   "metadata": {
    "collapsed": true
   },
   "outputs": [],
   "source": [
    "with open(\"data/ids\", \"w\") as f:\n",
    "    for i in user_ids_with_1_labels:\n",
    "        f.write(i + \"\\n\")"
   ]
  },
  {
   "cell_type": "code",
   "execution_count": 21,
   "metadata": {
    "collapsed": false
   },
   "outputs": [],
   "source": [
    "user_ids_with_1_labels = []\n",
    "with open(\"data/ids\", \"r\") as f:\n",
    "    for i in f.readlines():\n",
    "        s = i.replace(\"\\n\", \"\")\n",
    "        user_ids_with_1_labels.append(s)"
   ]
  },
  {
   "cell_type": "markdown",
   "metadata": {},
   "source": [
    "Работа с фичами"
   ]
  },
  {
   "cell_type": "code",
   "execution_count": null,
   "metadata": {
    "collapsed": true
   },
   "outputs": [],
   "source": [
    "# main prepare data"
   ]
  },
  {
   "cell_type": "code",
   "execution_count": 22,
   "metadata": {
    "collapsed": true
   },
   "outputs": [],
   "source": [
    "to_drop = ['id', 'session_id', 'operator_id', 'operator_channel_id', 'user_id',\n",
    "'event_start', 'event_start_date', 'event_start_hour', 'event_start_minut', 'event_start_second',\n",
    "'event_end', 'event_end_date', 'event_end_hour', 'event_end_minut', 'event_end_second', 'event_stop',\n",
    "'program_start', 'program_stop', 'content_aired_end', 'content_aired_start', 'dt_add_row']\n",
    "\n",
    "categorical = ['operator_name', 'channel_name', 'vi_channel_id', 'app_id',\n",
    "'device_ip', 'device_type_name', 'geo_continent_code', 'geo_subdivision_1_name', 'geo_country_iso_code',\n",
    "'geo_subdivision_2_name', 'geo_subdivision_1_iso_code', 'geo_subdivision_2_iso_code',\n",
    "'geo_city_name', 'geo_time_zone', 'geo_country_name', 'geo_continent_name', 'program_ganre_name', 'program_topic_name',\n",
    "'program_country_name', 'program_category_name', 'program_title_name', 'user_agent']\n",
    "\n",
    "numer_not_prepare = ['mode_view', 'device_type', 'event_duration', 'program_rating', \n",
    "'program_user_dur_view_prog', 'procent_user_view_prog', 'program_duration', 'region_streaming',\n",
    "'content_aired_duration', 'stream_type']\n",
    "\n",
    "numer_need_prepare = ['user_agent', 'dt_add_row']"
   ]
  },
  {
   "cell_type": "markdown",
   "metadata": {},
   "source": [
    "dt_add_row -> dt_add_row_since_epoch"
   ]
  },
  {
   "cell_type": "code",
   "execution_count": 23,
   "metadata": {
    "collapsed": false
   },
   "outputs": [],
   "source": [
    "epoch = datetime.datetime.utcfromtimestamp(0)\n",
    "\n",
    "def unix_time_millis(dt):\n",
    "    return (dt - epoch).total_seconds()\n",
    "\n",
    "data_channel['dt_add_row_since_epoch'] = None\n",
    "data_channel['dt_add_row_since_epoch'] = data_channel['dt_add_row'].apply(unix_time_millis)"
   ]
  },
  {
   "cell_type": "markdown",
   "metadata": {},
   "source": [
    "Извлекаем фичи из user_agent"
   ]
  },
  {
   "cell_type": "code",
   "execution_count": 24,
   "metadata": {
    "collapsed": true
   },
   "outputs": [],
   "source": [
    "lst = []\n",
    "for i in data_channel['user_agent']:\n",
    "    if not(\"android\" in i) and not(\"apple\" in i):\n",
    "        lst.append(i)\n",
    "    \n",
    "with open(\"data/user_agenst_all\", \"w\") as f:\n",
    "    for i in list(set(lst)):\n",
    "        f.write(i + \"\\n\")"
   ]
  },
  {
   "cell_type": "code",
   "execution_count": 25,
   "metadata": {
    "collapsed": false
   },
   "outputs": [],
   "source": [
    "data_channel['mobile'] = None\n",
    "data_channel['android'] = None\n",
    "data_channel['apple'] = None\n",
    "\n",
    "data_channel['user_agent'] = data_channel['user_agent'].str.lower()\n",
    "\n",
    "data_channel['mobile'][data_channel['user_agent'].str.contains(\"android|apple\", na=False)] = 1\n",
    "data_channel['android'][data_channel['user_agent'].str.contains(\"android\", na=False)] = 1\n",
    "data_channel['apple'][data_channel['user_agent'].str.contains(\"android\", na=False)] = 1\n",
    "\n",
    "data_channel['mobile'][data_channel['mobile'] != 1] = 1\n",
    "data_channel['android'][data_channel['android'] != 1] = 1\n",
    "data_channel['apple'][data_channel['apple'] != 1] = 1\n",
    "\n",
    "# можно ещё подаставать фичи"
   ]
  },
  {
   "cell_type": "markdown",
   "metadata": {},
   "source": [
    "Кодируем категориальные фичи"
   ]
  },
  {
   "cell_type": "code",
   "execution_count": 26,
   "metadata": {
    "collapsed": true
   },
   "outputs": [],
   "source": [
    "from sklearn.preprocessing import LabelEncoder"
   ]
  },
  {
   "cell_type": "code",
   "execution_count": 27,
   "metadata": {
    "collapsed": false
   },
   "outputs": [],
   "source": [
    "for i in categorical:\n",
    "    label = LabelEncoder()\n",
    "    dicts = {}\n",
    "    \n",
    "    data_channel[i] = data_channel[i].apply(str)\n",
    "\n",
    "    label.fit(data_channel[i].drop_duplicates()) #задаем список значений для кодирования\n",
    "    dicts[i] = list(label.classes_)\n",
    "    data_channel[i] = label.transform(data_channel[i]) #заменяем значения из списка кодами закодированных элементов "
   ]
  },
  {
   "cell_type": "markdown",
   "metadata": {},
   "source": [
    "Метки (0 - ролик не смотрели, 1 - ролик смотрели)"
   ]
  },
  {
   "cell_type": "code",
   "execution_count": 28,
   "metadata": {
    "collapsed": false
   },
   "outputs": [
    {
     "name": "stdout",
     "output_type": "stream",
     "text": [
      "38426\n",
      "11574\n"
     ]
    }
   ],
   "source": [
    "data_channel['label'] = None\n",
    "data_channel['label'][data_channel['user_id'].isin(user_ids_with_1_labels)] = 1\n",
    "data_channel['label'][data_channel['label'] != 1] = 0\n",
    "\n",
    "print (data_channel['label'][data_channel['label'] == 1].shape[0])\n",
    "print (data_channel['label'][data_channel['label'] != 1].shape[0])"
   ]
  },
  {
   "cell_type": "markdown",
   "metadata": {},
   "source": [
    "Финальная обработка"
   ]
  },
  {
   "cell_type": "code",
   "execution_count": 29,
   "metadata": {
    "collapsed": false
   },
   "outputs": [],
   "source": [
    "data_channel = data_channel.drop(to_drop, 1)"
   ]
  },
  {
   "cell_type": "code",
   "execution_count": 30,
   "metadata": {
    "collapsed": false
   },
   "outputs": [],
   "source": [
    "def replace_str(str_s):\n",
    "    return re.sub(\"\\D\", \"\", str_s)\n",
    "    \n",
    "for i in list(data_channel):\n",
    "    if isinstance(data_channel[i][0] , str):\n",
    "        data_channel[i] = data_channel[i].apply(replace_str)\n",
    "        data_channel[i] = data_channel[i].astype(int)\n",
    "\n",
    "data_channel = data_channel.fillna(0)"
   ]
  },
  {
   "cell_type": "code",
   "execution_count": 31,
   "metadata": {
    "collapsed": false
   },
   "outputs": [],
   "source": [
    "data_channel.to_csv('data/prepared_data', header=False, index=False)\n",
    "data_channel.to_csv('data/prepared_data_pandas', index=False)"
   ]
  }
 ],
 "metadata": {
  "kernelspec": {
   "display_name": "Python 3",
   "language": "python",
   "name": "python3"
  },
  "language_info": {
   "codemirror_mode": {
    "name": "ipython",
    "version": 3
   },
   "file_extension": ".py",
   "mimetype": "text/x-python",
   "name": "python",
   "nbconvert_exporter": "python",
   "pygments_lexer": "ipython3",
   "version": "3.5.2"
  }
 },
 "nbformat": 4,
 "nbformat_minor": 2
}
